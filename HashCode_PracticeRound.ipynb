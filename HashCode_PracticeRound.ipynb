{
  "nbformat": 4,
  "nbformat_minor": 0,
  "metadata": {
    "colab": {
      "name": "HashCode_PracticeRound.ipynb",
      "provenance": [],
      "collapsed_sections": []
    },
    "kernelspec": {
      "name": "python3",
      "display_name": "Python 3"
    }
  },
  "cells": [
    {
      "cell_type": "code",
      "metadata": {
        "id": "eHJnhxuQknzF",
        "colab": {
          "base_uri": "https://localhost:8080/",
          "height": 34
        },
        "outputId": "0ab46fe0-a5f7-4873-a029-dc4aae931f7e"
      },
      "source": [
        "from google.colab import drive\n",
        "drive.mount('/content/drive')\n",
        "\n",
        "# with open('/content/drive/My Drive/c_medium / b_small .in', 'r') as f: \n",
        "#   x = f.readlines()\n",
        "#   print(f.read())"
      ],
      "execution_count": null,
      "outputs": [
        {
          "output_type": "stream",
          "text": [
            "Drive already mounted at /content/drive; to attempt to forcibly remount, call drive.mount(\"/content/drive\", force_remount=True).\n"
          ],
          "name": "stdout"
        }
      ]
    },
    {
      "cell_type": "code",
      "metadata": {
        "id": "q9gJqeprl7_i"
      },
      "source": [
        "a = []\n",
        "with open('/content/drive/My Drive/a_example.in', 'r') as f: \n",
        "  temp = f.readline()\n",
        "  max_slices = int(temp.split(' ')[0])\n",
        "  num_types = int(temp.split(' ')[1])\n",
        "  line = f.readline()\n",
        "  for i, value in enumerate(line.split()):\n",
        "    a.append(int(value))"
      ],
      "execution_count": null,
      "outputs": []
    },
    {
      "cell_type": "code",
      "metadata": {
        "id": "zf23JSeDo6TO",
        "colab": {
          "base_uri": "https://localhost:8080/",
          "height": 68
        },
        "outputId": "948a9550-aa59-4f18-d2ba-7aa52cd63e2b"
      },
      "source": [
        "print(max_slices)\n",
        "print(num_types) # not used\n",
        "print(a)"
      ],
      "execution_count": null,
      "outputs": [
        {
          "output_type": "stream",
          "text": [
            "17\n",
            "4\n",
            "[2, 5, 6, 8]\n"
          ],
          "name": "stdout"
        }
      ]
    },
    {
      "cell_type": "code",
      "metadata": {
        "id": "rU2sC4IpsMmf",
        "colab": {
          "base_uri": "https://localhost:8080/",
          "height": 34
        },
        "outputId": "fd66c6bf-c6c3-4806-d7bf-560158116ee3"
      },
      "source": [
        "total_slices = sum(a)\n",
        "print(total_slices)"
      ],
      "execution_count": null,
      "outputs": [
        {
          "output_type": "stream",
          "text": [
            "21\n"
          ],
          "name": "stdout"
        }
      ]
    },
    {
      "cell_type": "code",
      "metadata": {
        "id": "563-eAirxVWT"
      },
      "source": [
        "slice_counter = 0 #must be less than or equal to max_slices\n",
        "length = len(a) #where to start adding after the split"
      ],
      "execution_count": null,
      "outputs": []
    },
    {
      "cell_type": "code",
      "metadata": {
        "id": "dapydeIV1dIv",
        "colab": {
          "base_uri": "https://localhost:8080/",
          "height": 51
        },
        "outputId": "1129f5ff-a8d6-41a2-d441-2b1e2eb1753e"
      },
      "source": [
        "# binarySearch-like method\n",
        "#binary search like approach:\n",
        "i = length // 2\n",
        "while True:\n",
        "  temp = [] # j to i\n",
        "  for j in range(i, len(a)):\n",
        "    temp.append(a[j])\n",
        "  sum1 = sum(temp)\n",
        "  print(sum1)\n",
        "  \n",
        "  slice_counter = sum1\n",
        "  \n",
        "  j = 0\n",
        "  while(slice_counter <= max_slices):  \n",
        "    temp.append(a[j])\n",
        "    slice_counter = sum(temp)\n",
        "    if(slice_counter > max_slices):\n",
        "      slice_counter -= a[j]\n",
        "      break\n",
        "    j+=1\n",
        "    print(slice_counter, temp)\n",
        "  \n",
        "  if(slice_counter <= max_slices):\n",
        "    break\n",
        "  i = (i + length) //2"
      ],
      "execution_count": null,
      "outputs": [
        {
          "output_type": "stream",
          "text": [
            "14\n",
            "16 [6, 8, 2]\n"
          ],
          "name": "stdout"
        }
      ]
    },
    {
      "cell_type": "code",
      "metadata": {
        "id": "RWjtIQPSCVGg"
      },
      "source": [
        "# failed #\n",
        "\n",
        "#binary search like approach:\n",
        "# sumation from 0 to j-1 and j to i\n",
        "# while True:\n",
        "#   temp1 = [] # 0 to j-1 ... could be eliminated\n",
        "#   temp2 = [] # j to i\n",
        "#   i = length // 2\n",
        "#   for j in range(i):\n",
        "#     temp1.append(a[j])\n",
        "#   sum1 = sum(temp1)\n",
        "#   print(sum1)\n",
        "  \n",
        "#   for j in range(i, length):\n",
        "#     temp2.append(a[j])\n",
        "#   sum2 = sum(temp2)\n",
        "#   print(sum2)\n",
        "\n",
        "#   slice_counter = sum2\n",
        "  \n",
        "#   j = 0\n",
        "#   while(slice_counter <= max_slices):  \n",
        "#     temp2.append(a[j])\n",
        "#     slice_counter = sum(temp2)\n",
        "#     if(slice_counter > max_slices):\n",
        "#       slice_counter -= a[j]\n",
        "#       break\n",
        "#     j+=1\n",
        "#     print(slice_counter, temp2)\n",
        "  \n",
        "#   num_types = num_types // 2\n",
        "#   print(num_types)\n",
        "#   if(num_types %2 == 0):\n",
        "#     break\n",
        "#   num_types = num_types // 2\n"
      ],
      "execution_count": null,
      "outputs": []
    }
  ]
}